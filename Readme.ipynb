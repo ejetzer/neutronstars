{
 "cells": [
  {
   "cell_type": "markdown",
   "metadata": {},
   "source": [
    "# Simulating neutron stars\n",
    "\n",
    "Results and experiments in simulating neutron stars with [MESA](http://mesa.sourceforge.net).\n",
    "\n",
    "- Go through the Summer School project by prof. Andrew Cumming\n",
    "- Simulate these different stars to make sure everything works fine:\n",
    "    1. Neutron star with accretion rate of $2\\times10^{-11}$\n",
    "    2. Neutron star with diffusion, but no accretion\n",
    "- Simulate a neutron star with accretion & diffusion (by Friday November 7)\n",
    "- Simulate neutron stars with accretion rates between $2\\times10^{-11}$ and $2\\times10^{-10}$, with and without diffusion (by Friday November 14)\n",
    "- Compare the following with results from the 2007 Peng paper (by Friday November 21)\n",
    "    - Sedimentation & accretion velocities\n",
    "    - Figures of one zone model"
   ]
  },
  {
   "cell_type": "markdown",
   "metadata": {
    "collapsed": true
   },
   "source": [
    "## Summer School Lecture\n",
    "\n",
    "The lecture can [be found on the MESA website](http://mesastar.org/teaching-materials/2015-mesa-summer-school/cumming), and at `Summer school` in the repo. I'll go through the minilab."
   ]
  },
  {
   "cell_type": "markdown",
   "metadata": {},
   "source": [
    "## Tests\n",
    "\n",
    "### Accretion rate of $2\\times10^{-11}$\n",
    "\n",
    "### Diffusion only"
   ]
  },
  {
   "cell_type": "markdown",
   "metadata": {},
   "source": [
    "## Accretion & diffusion"
   ]
  },
  {
   "cell_type": "markdown",
   "metadata": {},
   "source": [
    "## Various accretion rates"
   ]
  },
  {
   "cell_type": "markdown",
   "metadata": {},
   "source": [
    "## Comparisons to figures & paper"
   ]
  },
  {
   "cell_type": "code",
   "execution_count": null,
   "metadata": {
    "collapsed": true
   },
   "outputs": [],
   "source": []
  }
 ],
 "metadata": {
  "kernelspec": {
   "display_name": "Python 3",
   "language": "python",
   "name": "python3"
  },
  "language_info": {
   "codemirror_mode": {
    "name": "ipython",
    "version": 3
   },
   "file_extension": ".py",
   "mimetype": "text/x-python",
   "name": "python",
   "nbconvert_exporter": "python",
   "pygments_lexer": "ipython3",
   "version": "3.5.0"
  }
 },
 "nbformat": 4,
 "nbformat_minor": 0
}
