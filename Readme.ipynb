{
 "cells": [
  {
   "cell_type": "code",
   "execution_count": 1,
   "metadata": {
    "collapsed": false
   },
   "outputs": [],
   "source": [
    "import matplotlib.pylab as plt, spinmob, subprocess, os, glob"
   ]
  },
  {
   "cell_type": "markdown",
   "metadata": {},
   "source": [
    "# Simulating neutron stars\n",
    "\n",
    "Results and experiments in simulating neutron stars with [MESA](http://mesa.sourceforge.net).\n",
    "\n",
    "- Go through the Summer School project by prof. Andrew Cumming\n",
    "- Simulate these different stars to make sure everything works fine:\n",
    "    1. Neutron star with accretion rate of $2\\times10^{-11}$\n",
    "    2. Neutron star with diffusion, but no accretion\n",
    "- Simulate a neutron star with accretion & diffusion (by Friday November 7)\n",
    "- Simulate neutron stars with accretion rates between $2\\times10^{-11}$ and $2\\times10^{-10}$, with and without diffusion (by Friday November 14)\n",
    "- Compare the following with results from the 2007 Peng paper (by Friday November 21)\n",
    "    - Sedimentation & accretion velocities\n",
    "    - Figures of one zone model"
   ]
  },
  {
   "cell_type": "code",
   "execution_count": 2,
   "metadata": {
    "collapsed": true
   },
   "outputs": [],
   "source": [
    "# defined in Utilities/rn.py\n",
    "def rn(path):\n",
    "    currdir = os.getcwd()\n",
    "    os.chdir(path)\n",
    "    subprocess.call('./mk')\n",
    "    subprocess.call('./rn')\n",
    "    subprocess.call('images_to_movie.sh \\'png/grid1_*.png\\' mp4/grid1.mp4')\n",
    "    os.chdir(currdir)"
   ]
  },
  {
   "cell_type": "markdown",
   "metadata": {
    "collapsed": true
   },
   "source": [
    "## Summer School Lecture\n",
    "\n",
    "The lecture can [be found on the MESA website](http://mesastar.org/teaching-materials/2015-mesa-summer-school/cumming), and at `Summer school` in the repo.\n",
    "\n",
    "### Up & running\n",
    "\n",
    "#### What to get\n",
    "\n",
    "- What is the approximate range of density and temperature in the model? What is the pressure scale height at the base? This gives you a rough estimate of the thickness of the layer we are simulating – only the very outer part of the neutron star!\n",
    "- What is the recurrence time of the flashes?\n",
    "- What is the peak luminosity? What do you think sets this physically?\n",
    "- What fuel is burning in the flash?\n",
    "- What happens to the CNO elements over time?\n",
    "- What do you think will happen if you run the simulation for a long time?"
   ]
  },
  {
   "cell_type": "markdown",
   "metadata": {},
   "source": [
    "### Burning regimes\n",
    "\n",
    "1. Choose some accretion rate from $M=2\\times10^{-11}$ to $2\\times10^{-8}M_{sun}\\mathrm{yr}^{-1}$\n",
    "\n",
    "#### What to get\n",
    "\n",
    "- What is happening to the CNO elements at different depths?\n",
    "- What is the luminosity between bursts?\n",
    "- Do all the bursts in a sequence look the same? How many bursts have to happen before the model gets into a steady state?\n",
    "- How does the number of zones and the timestep change with time?"
   ]
  },
  {
   "cell_type": "code",
   "execution_count": 3,
   "metadata": {
    "collapsed": true
   },
   "outputs": [],
   "source": [
    "MODEL = 'accretion_rate_model/'\n",
    "OUT = 'accretion_rate_{}/'\n",
    "def make_models(start=2e-8, end=2e-11, N=10, model=MODEL, out=OUT, run=False):\n",
    "    start, end = plt.log(start), plt.log(end)\n",
    "    accretion_rates = plt.exp(plt.linspace(start, end, N))\n",
    "    with open(model+'inlist_ns_h', 'r') as model:\n",
    "        model = model.read()\n",
    "    for rate in accretion_rates:\n",
    "        subprocess.call('cp -r {} {}'.format(model, out.format(rate)), shell=True)\n",
    "        with open(out.format(rate)+'inlist_ns_h', 'w') as inlist:\n",
    "            inlist.write(model.format(rate))\n",
    "        if run: rn('{}'.format(out.format(rate)))"
   ]
  },
  {
   "cell_type": "markdown",
   "metadata": {},
   "source": [
    "### Extras\n",
    "\n",
    "- You tried changing the base luminosity Lb. The other parameters of the initial model are the mass and radius of the neutron star. Try changing M and R using the appro- priate relax controls in the inlist.\n",
    "- The accreted material is assumed to have a metallicity of Z = 0.02 in the example above. What happens if you change Z?\n",
    "- Run a model with a high M ̇ , so that the burning is stable. How does the helium mass fraction change with column depth once the helium starts to burn (hint: it should be a power law)? Does it make sense given what you know about the triple alpha reaction?\n",
    "- The base of the model changes temperature significantly when a burst goes off. You might worry that we are not modelling a thick enough layer to include the high density material currently off the grid that gets heated up during the burst. How could you change the neutron star model so that it has a thicker envelope, say 100 times more massive than the one in the test suite?"
   ]
  },
  {
   "cell_type": "markdown",
   "metadata": {},
   "source": [
    "### Nets! Comparison to GS1826-24\n",
    "\n",
    "### A bigger net\n",
    "\n",
    "#### What to get\n",
    "\n",
    "- the recurrence time\n",
    "- the time it took to run the model, and the amount of memory being used (to check the memory usage, run top and look for the star process)\n",
    "- the peak luminosity\n",
    "- with the burst peak luminosities normalized in the burst window, measure the time after the peak of the burst where the model lightcurve starts to deviate sig- nificantly from the GS1826 data (this is a way to quantify how well the lightcurve matches the data)\n",
    "- the mass fraction of hydrogen in the ashes layer – i.e. how much hydrogen is present in the layer of heavy elements left over from previous bursts? You may want to change the axis limits on the abundance plot to help see this more clearly (e.g. zoom in on column depths between 8.0 and 8.5).\n",
    "\n",
    "### Smaller and larger sets\n",
    "\n",
    "### Adaptative nets\n",
    "\n",
    "### Discussion\n",
    "\n",
    "- Given the sensitivity to the choice of network that we’ve seen here, it should be clear that you have to be careful to choose the right network. How do you choose which net to use, and how can you be sure it is the right one for the problem you are interested in?\n",
    "- What else would you do to make sure you are getting the right answer before you used the lightcurves from MESA to compare to data or to write a paper?\n",
    "- We’ve seen that these models are pushing MESA to its limits, with hundreds of nuclei required to follow all the nucleosynthesis during the X-ray burst and calculations that take several hours or more per burst. What improvements, changes, or additions could we make to the MESA code to improve performance?"
   ]
  },
  {
   "cell_type": "markdown",
   "metadata": {},
   "source": [
    "## Tests\n",
    "\n",
    "### Accretion rate of $2\\times10^{-11}$\n",
    "\n",
    "### Diffusion only"
   ]
  },
  {
   "cell_type": "markdown",
   "metadata": {},
   "source": [
    "## Accretion & diffusion"
   ]
  },
  {
   "cell_type": "markdown",
   "metadata": {},
   "source": [
    "## Various accretion rates"
   ]
  },
  {
   "cell_type": "code",
   "execution_count": 5,
   "metadata": {
    "collapsed": false
   },
   "outputs": [],
   "source": [
    "# make_models(...)"
   ]
  },
  {
   "cell_type": "markdown",
   "metadata": {},
   "source": [
    "## Comparisons to figures & paper"
   ]
  },
  {
   "cell_type": "code",
   "execution_count": null,
   "metadata": {
    "collapsed": true
   },
   "outputs": [],
   "source": []
  }
 ],
 "metadata": {
  "kernelspec": {
   "display_name": "Python 2",
   "language": "python",
   "name": "python2"
  },
  "language_info": {
   "codemirror_mode": {
    "name": "ipython",
    "version": 2
   },
   "file_extension": ".py",
   "mimetype": "text/x-python",
   "name": "python",
   "nbconvert_exporter": "python",
   "pygments_lexer": "ipython2",
   "version": "2.7.10"
  }
 },
 "nbformat": 4,
 "nbformat_minor": 0
}
